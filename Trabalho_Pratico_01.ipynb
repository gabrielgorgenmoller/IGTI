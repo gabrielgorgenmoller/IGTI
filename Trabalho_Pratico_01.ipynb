{
 "cells": [
  {
   "cell_type": "code",
   "execution_count": 1,
   "metadata": {},
   "outputs": [],
   "source": [
    "# Importar biliotecas necessárias\n",
    "import pandas as pd\n",
    "import numpy as np\n",
    "import zipfile\n",
    "import requests\n",
    "from io import BytesIO\n",
    "import os"
   ]
  },
  {
   "cell_type": "code",
   "execution_count": 7,
   "metadata": {},
   "outputs": [],
   "source": [
    "# Criar um diretório para armazenar conteúdo do ENADE\n",
    "os.makedirs('./gabriel_enade2019', exist_ok=True)"
   ]
  },
  {
   "cell_type": "code",
   "execution_count": 9,
   "metadata": {},
   "outputs": [],
   "source": [
    "url = \"https://download.inep.gov.br/microdados/microdados_enem_2019.zip\"\n",
    "\n",
    "# Faz o download do conteúdo\n",
    "filebytes = BytesIO(\n",
    "    requests.get(url).content\n",
    ")\n",
    "\n",
    "# Extrair o conteúdo do zipfile\n",
    "myzip = zipfile.ZipFile(filebytes)\n",
    "myzip.extractall(\"./gabriel_enade2019\")"
   ]
  },
  {
   "cell_type": "code",
   "execution_count": 35,
   "metadata": {},
   "outputs": [],
   "source": [
    "# Divide arquivo em mais partes por questões de memória filtrando por estado\n",
    "chunk_size=1000000\n",
    "batch_no=1\n",
    "for chunk in pd.read_csv('./gabriel_enade2019/DADOS/MICRODADOS_ENEM_2019.csv', sep = ';', decimal = ',', chunksize=chunk_size, encoding = \"ISO-8859-1\"):\n",
    "    chunk[chunk.SG_UF_RESIDENCIA == 'MG'].to_csv('./gabriel_enade2019/CHUNK/chunk'+str(batch_no)+'.csv', sep = ';', decimal = ',', encoding = \"ISO-8859-1\", index=False)\n",
    "    batch_no+=1"
   ]
  },
  {
   "cell_type": "code",
   "execution_count": 36,
   "metadata": {},
   "outputs": [],
   "source": [
    "# Cria um DataFrame único com todos os arquivos filtrados\n",
    "columns= chunk.columns\n",
    "enem = pd.DataFrame(columns = columns)\n",
    "for i in range(1, batch_no):\n",
    "    input = pd.read_csv('./gabriel_enade2019/CHUNK/chunk'+str(i)+'.csv', sep = ';', decimal = ',', encoding = \"ISO-8859-1\")\n",
    "    enem = enem.append(input, ignore_index =True)"
   ]
  },
  {
   "cell_type": "code",
   "execution_count": 38,
   "metadata": {},
   "outputs": [],
   "source": [
    "# Cria um arquivo CSV único com os dados filtrados \n",
    "enem.to_csv('./gabriel_enade2019/DADOS/MICRODADOS_ENEM_2019_MG.csv', sep = ';', decimal = ',', encoding = \"ISO-8859-1\", index=False)"
   ]
  },
  {
   "cell_type": "code",
   "execution_count": 46,
   "metadata": {},
   "outputs": [],
   "source": [
    "enade = pd.read_csv(\n",
    "    './gabriel_enade2019/DADOS/MICRODADOS_ENEM_2019_MG.csv',\n",
    "    sep = ';', decimal = ',', encoding = \"ISO-8859-1\"\n",
    ")"
   ]
  },
  {
   "cell_type": "code",
   "execution_count": 2,
   "metadata": {},
   "outputs": [],
   "source": [
    "\n",
    "enem = pd.read_csv(\n",
    "    \"./gabriel_enade2019/DADOS/MICRODADOS_ENEM_2019.csv\",\n",
    "    sep = \";\", decimal = \".\", encoding = 'ISO-8859-1'\n",
    ")"
   ]
  },
  {
   "cell_type": "code",
   "execution_count": 17,
   "metadata": {},
   "outputs": [
    {
     "data": {
      "text/plain": [
       "count    2205.000000\n",
       "mean      557.276599\n",
       "std        90.127265\n",
       "min         0.000000\n",
       "25%       498.000000\n",
       "50%       572.500000\n",
       "75%       622.200000\n",
       "max       775.500000\n",
       "Name: NU_NOTA_CH, dtype: float64"
      ]
     },
     "execution_count": 17,
     "metadata": {},
     "output_type": "execute_result"
    }
   ],
   "source": [
    "enem.loc[\n",
    "    (enem.SG_UF_RESIDENCIA == \"MG\")&\n",
    " #   (enem.TP_SEXO == \"M\")&\n",
    " #   (enem.NO_MUNICIPIO_RESIDENCIA == \"Sabará\")&\n",
    "    (enem.Q016 == \"C\")\n",
    "    \n",
    "].NU_NOTA_CH.describe()"
   ]
  },
  {
   "cell_type": "code",
   "execution_count": null,
   "metadata": {},
   "outputs": [],
   "source": []
  }
 ],
 "metadata": {
  "kernelspec": {
   "display_name": "Python 3",
   "language": "python",
   "name": "python3"
  },
  "language_info": {
   "codemirror_mode": {
    "name": "ipython",
    "version": 3
   },
   "file_extension": ".py",
   "mimetype": "text/x-python",
   "name": "python",
   "nbconvert_exporter": "python",
   "pygments_lexer": "ipython3",
   "version": "3.8.5"
  }
 },
 "nbformat": 4,
 "nbformat_minor": 4
}
