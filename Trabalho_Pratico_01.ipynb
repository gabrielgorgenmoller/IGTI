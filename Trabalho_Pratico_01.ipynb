{
 "cells": [
  {
   "cell_type": "code",
   "execution_count": 2,
   "metadata": {},
   "outputs": [],
   "source": [
    "# Importar biliotecas necessárias\n",
    "import pandas as pd\n",
    "import numpy as np\n",
    "import zipfile\n",
    "import requests\n",
    "from io import BytesIO\n",
    "import os"
   ]
  },
  {
   "cell_type": "code",
   "execution_count": 7,
   "metadata": {},
   "outputs": [],
   "source": [
    "# Criar um diretório para armazenar conteúdo do ENADE\n",
    "os.makedirs('./gabriel_enade2019', exist_ok=True)"
   ]
  },
  {
   "cell_type": "code",
   "execution_count": 9,
   "metadata": {},
   "outputs": [],
   "source": [
    "url = \"https://download.inep.gov.br/microdados/microdados_enem_2019.zip\"\n",
    "\n",
    "# Faz o download do conteúdo\n",
    "filebytes = BytesIO(\n",
    "    requests.get(url).content\n",
    ")\n",
    "\n",
    "# Extrair o conteúdo do zipfile\n",
    "myzip = zipfile.ZipFile(filebytes)\n",
    "myzip.extractall(\"./gabriel_enade2019\")"
   ]
  },
  {
   "cell_type": "code",
   "execution_count": 35,
   "metadata": {},
   "outputs": [],
   "source": [
    "# Divide arquivo em mais partes por questões de memória filtrando por estado\n",
    "chunk_size=1000000\n",
    "batch_no=1\n",
    "for chunk in pd.read_csv('./gabriel_enade2019/DADOS/MICRODADOS_ENEM_2019.csv', sep = ';', decimal = ',', chunksize=chunk_size, encoding = \"ISO-8859-1\"):\n",
    "    chunk[chunk.SG_UF_RESIDENCIA == 'MG'].to_csv('./gabriel_enade2019/CHUNK/chunk'+str(batch_no)+'.csv', sep = ';', decimal = ',', encoding = \"ISO-8859-1\", index=False)\n",
    "    batch_no+=1"
   ]
  },
  {
   "cell_type": "code",
   "execution_count": 36,
   "metadata": {},
   "outputs": [],
   "source": [
    "# Cria um DataFrame único com todos os arquivos filtrados\n",
    "columns= chunk.columns\n",
    "enem = pd.DataFrame(columns = columns)\n",
    "for i in range(1, batch_no):\n",
    "    input = pd.read_csv('./gabriel_enade2019/CHUNK/chunk'+str(i)+'.csv', sep = ';', decimal = ',', encoding = \"ISO-8859-1\")\n",
    "    enem = enem.append(input, ignore_index =True)"
   ]
  },
  {
   "cell_type": "code",
   "execution_count": 38,
   "metadata": {},
   "outputs": [],
   "source": [
    "# Cria um arquivo CSV único com os dados filtrados \n",
    "enem.to_csv('./gabriel_enade2019/DADOS/MICRODADOS_ENEM_2019_MG.csv', sep = ';', decimal = ',', encoding = \"ISO-8859-1\", index=False)"
   ]
  },
  {
   "cell_type": "code",
   "execution_count": 46,
   "metadata": {},
   "outputs": [],
   "source": [
    "enade = pd.read_csv(\n",
    "    './gabriel_enade2019/DADOS/MICRODADOS_ENEM_2019_MG.csv',\n",
    "    sep = ';', decimal = ',', encoding = \"ISO-8859-1\"\n",
    ")"
   ]
  },
  {
   "cell_type": "code",
   "execution_count": 3,
   "metadata": {},
   "outputs": [],
   "source": [
    "\n",
    "enem = pd.read_csv(\n",
    "    \"./gabriel_enade2019/DADOS/MICRODADOS_ENEM_2019.csv\",\n",
    "    sep = \";\", decimal = \".\", encoding = 'ISO-8859-1'\n",
    ")"
   ]
  },
  {
   "cell_type": "code",
   "execution_count": 5,
   "metadata": {},
   "outputs": [
    {
     "data": {
      "text/plain": [
       "count    393872.000000\n",
       "mean        546.796208\n",
       "std         115.072018\n",
       "min           0.000000\n",
       "25%         451.800000\n",
       "50%         531.400000\n",
       "75%         629.800000\n",
       "max         985.500000\n",
       "Name: NU_NOTA_MT, dtype: float64"
      ]
     },
     "execution_count": 5,
     "metadata": {},
     "output_type": "execute_result"
    }
   ],
   "source": [
    "# 01) Qual é média de matemática de todos os alunos mineiros\n",
    "\n",
    "enem.loc[\n",
    "    (enem.SG_UF_RESIDENCIA == \"MG\")    \n",
    "].NU_NOTA_MT.describe()"
   ]
  },
  {
   "cell_type": "code",
   "execution_count": 6,
   "metadata": {},
   "outputs": [
    {
     "data": {
      "text/plain": [
       "count    414346.000000\n",
       "mean        531.215550\n",
       "std          61.324732\n",
       "min           0.000000\n",
       "25%         497.400000\n",
       "50%         536.500000\n",
       "75%         572.900000\n",
       "max         770.500000\n",
       "Name: NU_NOTA_LC, dtype: float64"
      ]
     },
     "execution_count": 6,
     "metadata": {},
     "output_type": "execute_result"
    }
   ],
   "source": [
    "# 02) Qual é  média da nota em Linguagens e Códigos de todos os alunos mineiros\n",
    "\n",
    "enem.loc[\n",
    "    (enem.SG_UF_RESIDENCIA == \"MG\")    \n",
    "].NU_NOTA_LC.describe()"
   ]
  },
  {
   "cell_type": "code",
   "execution_count": 12,
   "metadata": {},
   "outputs": [
    {
     "data": {
      "text/plain": [
       "count    251816.000000\n",
       "mean        515.127098\n",
       "std          81.019828\n",
       "min           0.000000\n",
       "25%         458.200000\n",
       "50%         519.300000\n",
       "75%         572.600000\n",
       "max         795.000000\n",
       "Name: NU_NOTA_CH, dtype: float64"
      ]
     },
     "execution_count": 12,
     "metadata": {},
     "output_type": "execute_result"
    }
   ],
   "source": [
    "# 03) Qual é a média da nota em Ciências Humanas dos alunos do sexo FEMININO mineiros\n",
    "enem.loc[\n",
    "    (enem.SG_UF_RESIDENCIA == \"MG\")&\n",
    "    (enem.TP_SEXO == \"F\")\n",
    "].NU_NOTA_CH.describe()"
   ]
  },
  {
   "cell_type": "code",
   "execution_count": 19,
   "metadata": {},
   "outputs": [
    {
     "data": {
      "text/plain": [
       "count    162530.000000\n",
       "mean        529.698270\n",
       "std          85.803672\n",
       "min           0.000000\n",
       "25%         470.200000\n",
       "50%         538.500000\n",
       "75%         591.500000\n",
       "max         835.100000\n",
       "Name: NU_NOTA_CH, dtype: float64"
      ]
     },
     "execution_count": 19,
     "metadata": {},
     "output_type": "execute_result"
    }
   ],
   "source": [
    "# 04) Qual é a média da nota em Ciências Humanas dos alunos do sexo MASCULINO\n",
    "enem.loc[\n",
    "    (enem.SG_UF_RESIDENCIA == \"MG\")&\n",
    "    (enem.TP_SEXO == \"M\")\n",
    "].NU_NOTA_CH.describe()"
   ]
  },
  {
   "cell_type": "code",
   "execution_count": 20,
   "metadata": {},
   "outputs": [
    {
     "data": {
      "text/plain": [
       "count    7699.000000\n",
       "mean      525.477672\n",
       "std       107.081759\n",
       "min       359.300000\n",
       "25%       438.750000\n",
       "50%       505.400000\n",
       "75%       601.000000\n",
       "max       913.700000\n",
       "Name: NU_NOTA_MT, dtype: float64"
      ]
     },
     "execution_count": 20,
     "metadata": {},
     "output_type": "execute_result"
    }
   ],
   "source": [
    "# 05) Qual é a média da nota em Matemática dos alunos do sexo FEMININO que moram na cidade de Montes Claros\n",
    "enem.loc[\n",
    "    (enem.SG_UF_RESIDENCIA == \"MG\")&\n",
    "    (enem.TP_SEXO == \"F\")&\n",
    "    (enem.NO_MUNICIPIO_RESIDENCIA == \"Montes Claros\")    \n",
    "].NU_NOTA_MT.describe()"
   ]
  },
  {
   "cell_type": "code",
   "execution_count": 27,
   "metadata": {},
   "outputs": [
    {
     "data": {
      "text/plain": [
       "count    704.000000\n",
       "mean     543.292756\n",
       "std      115.270483\n",
       "min      359.100000\n",
       "25%      444.125000\n",
       "50%      521.850000\n",
       "75%      622.425000\n",
       "max      924.700000\n",
       "Name: NU_NOTA_MT, dtype: float64"
      ]
     },
     "execution_count": 27,
     "metadata": {},
     "output_type": "execute_result"
    }
   ],
   "source": [
    "# 06) Qual é a média da nota em Matemática dos alunos do município de Sabará que possuem TV por assinatura na residência\n",
    "enem.loc[\n",
    "    (enem.SG_UF_RESIDENCIA == \"MG\")&\n",
    "    (enem.NO_MUNICIPIO_RESIDENCIA == \"Sabará\")&  \n",
    "    (enem.Q021 == \"B\")\n",
    "].NU_NOTA_MT.describe()"
   ]
  },
  {
   "cell_type": "code",
   "execution_count": 25,
   "metadata": {},
   "outputs": [
    {
     "data": {
      "text/plain": [
       "count    2205.000000\n",
       "mean      557.276599\n",
       "std        90.127265\n",
       "min         0.000000\n",
       "25%       498.000000\n",
       "50%       572.500000\n",
       "75%       622.200000\n",
       "max       775.500000\n",
       "Name: NU_NOTA_CH, dtype: float64"
      ]
     },
     "execution_count": 25,
     "metadata": {},
     "output_type": "execute_result"
    }
   ],
   "source": [
    "# 07) Qual é a média da nota em Ciências Humanas dos alunos mineiros que possuem 2 fornos micro-ondas em casa\n",
    "enem.loc[\n",
    "    (enem.SG_UF_RESIDENCIA == \"MG\")&\n",
    "    (enem.Q016 == \"C\")\n",
    "].NU_NOTA_CH.describe()"
   ]
  },
  {
   "cell_type": "code",
   "execution_count": 26,
   "metadata": {},
   "outputs": [
    {
     "data": {
      "text/plain": [
       "count    40937.000000\n",
       "mean       620.007062\n",
       "std        122.608027\n",
       "min          0.000000\n",
       "25%        525.600000\n",
       "50%        629.200000\n",
       "75%        710.200000\n",
       "max        985.500000\n",
       "Name: NU_NOTA_MT, dtype: float64"
      ]
     },
     "execution_count": 26,
     "metadata": {},
     "output_type": "execute_result"
    }
   ],
   "source": [
    "# 08) Qual é a média da nota em Matemática dos alunos mineiros cuja mãe completou a pós-graduação\n",
    "enem.loc[\n",
    "    (enem.SG_UF_RESIDENCIA == \"MG\")&\n",
    "    (enem.Q002 == \"G\")\n",
    "].NU_NOTA_MT.describe()"
   ]
  },
  {
   "cell_type": "code",
   "execution_count": 40,
   "metadata": {},
   "outputs": [
    {
     "data": {
      "text/plain": [
       "count    59238.000000\n",
       "mean       578.039227\n",
       "std        128.510689\n",
       "min          0.000000\n",
       "25%        469.700000\n",
       "50%        570.500000\n",
       "75%        674.200000\n",
       "max        985.500000\n",
       "Name: NU_NOTA_MT, dtype: float64"
      ]
     },
     "execution_count": 40,
     "metadata": {},
     "output_type": "execute_result"
    }
   ],
   "source": [
    "# 09) Qual é a média da nota em Matemática dos alunos de Belo Horizonte e de Conselheiro Lafaiete\n",
    "enem.loc[\n",
    "    (enem.SG_UF_RESIDENCIA == \"MG\")&\n",
    "    (enem.NO_MUNICIPIO_RESIDENCIA.isin([\"Belo Horizonte\",\"Conselheiro Lafaiete\"]))\n",
    "].NU_NOTA_MT.describe()"
   ]
  },
  {
   "cell_type": "code",
   "execution_count": 41,
   "metadata": {},
   "outputs": [
    {
     "data": {
      "text/plain": [
       "count    10131.000000\n",
       "mean       534.457339\n",
       "std         86.729627\n",
       "min          0.000000\n",
       "25%        478.950000\n",
       "50%        543.200000\n",
       "75%        595.300000\n",
       "max        786.600000\n",
       "Name: NU_NOTA_CH, dtype: float64"
      ]
     },
     "execution_count": 41,
     "metadata": {},
     "output_type": "execute_result"
    }
   ],
   "source": [
    "# 10) Qual é a média da nota em Ciências Humanas dos alunos mineiros que moram sozinhos\n",
    "enem.loc[\n",
    "    (enem.SG_UF_RESIDENCIA == \"MG\")&\n",
    "    (enem.Q005 == 1)\n",
    "].NU_NOTA_CH.describe()"
   ]
  },
  {
   "cell_type": "code",
   "execution_count": 43,
   "metadata": {},
   "outputs": [
    {
     "data": {
      "text/plain": [
       "count    1118.000000\n",
       "mean      586.723166\n",
       "std        75.330683\n",
       "min       319.300000\n",
       "25%       550.425000\n",
       "50%       598.450000\n",
       "75%       637.525000\n",
       "max       784.000000\n",
       "Name: NU_NOTA_CH, dtype: float64"
      ]
     },
     "execution_count": 43,
     "metadata": {},
     "output_type": "execute_result"
    }
   ],
   "source": [
    "# 11) Qual é a média da nota em Ciências Humanas dos alunos mineiros cujo pai completou a Pós-Graduação e possuem renda familiar entre R$ 8.982,01 e R$ 9.980,00\n",
    "enem.loc[\n",
    "    (enem.SG_UF_RESIDENCIA == \"MG\")&\n",
    "    (enem.Q001 == \"G\")&\n",
    "    (enem.Q006 == \"M\")\n",
    "].NU_NOTA_CH.describe()"
   ]
  },
  {
   "cell_type": "code",
   "execution_count": 48,
   "metadata": {},
   "outputs": [
    {
     "data": {
      "text/plain": [
       "count    894.000000\n",
       "mean     510.809508\n",
       "std       94.541685\n",
       "min      359.900000\n",
       "25%      435.175000\n",
       "50%      492.200000\n",
       "75%      570.350000\n",
       "max      870.200000\n",
       "Name: NU_NOTA_MT, dtype: float64"
      ]
     },
     "execution_count": 48,
     "metadata": {},
     "output_type": "execute_result"
    }
   ],
   "source": [
    "# 12) Qual é a média da nota em Matemática dos alunos do sexo FEMININO que moram em Lavras e escolhem \"Espanhol\" como língua estrangeira\n",
    "enem.loc[\n",
    "    (enem.SG_UF_RESIDENCIA == \"MG\")&\n",
    "    (enem.TP_SEXO == \"F\")&\n",
    "    (enem.NO_MUNICIPIO_RESIDENCIA == \"Lavras\")&\n",
    "    (enem.TP_LINGUA == 1)\n",
    "].NU_NOTA_MT.describe()"
   ]
  },
  {
   "cell_type": "code",
   "execution_count": 49,
   "metadata": {},
   "outputs": [
    {
     "data": {
      "text/plain": [
       "count    1230.000000\n",
       "mean      555.083252\n",
       "std       114.936273\n",
       "min       359.000000\n",
       "25%       461.250000\n",
       "50%       540.500000\n",
       "75%       638.650000\n",
       "max       903.900000\n",
       "Name: NU_NOTA_MT, dtype: float64"
      ]
     },
     "execution_count": 49,
     "metadata": {},
     "output_type": "execute_result"
    }
   ],
   "source": [
    "# 13) Qual é a média da nota em Matemática dos alunos do sexo MASCULINO que moram em Ouro Preto\n",
    "enem.loc[\n",
    "    (enem.SG_UF_RESIDENCIA == \"MG\")&\n",
    "    (enem.TP_SEXO == \"M\")&\n",
    "    (enem.NO_MUNICIPIO_RESIDENCIA == \"Ouro Preto\")\n",
    "].NU_NOTA_MT.describe()"
   ]
  },
  {
   "cell_type": "code",
   "execution_count": 50,
   "metadata": {},
   "outputs": [
    {
     "data": {
      "text/plain": [
       "count    108.000000\n",
       "mean     435.387963\n",
       "std       61.942581\n",
       "min      330.500000\n",
       "25%      395.100000\n",
       "50%      426.350000\n",
       "75%      471.250000\n",
       "max      616.500000\n",
       "Name: NU_NOTA_CH, dtype: float64"
      ]
     },
     "execution_count": 50,
     "metadata": {},
     "output_type": "execute_result"
    }
   ],
   "source": [
    "# 14) Qual é a média da nota em Ciências Humanas dos alunos surdos\n",
    "enem.loc[\n",
    "    (enem.SG_UF_RESIDENCIA == \"MG\")&\n",
    "    (enem.IN_SURDEZ == 1)\n",
    "].NU_NOTA_CH.describe()"
   ]
  },
  {
   "cell_type": "code",
   "execution_count": 54,
   "metadata": {},
   "outputs": [
    {
     "data": {
      "text/plain": [
       "count     31.000000\n",
       "mean     582.193548\n",
       "std      131.003641\n",
       "min      363.600000\n",
       "25%      474.250000\n",
       "50%      604.400000\n",
       "75%      672.750000\n",
       "max      789.100000\n",
       "Name: NU_NOTA_MT, dtype: float64"
      ]
     },
     "execution_count": 54,
     "metadata": {},
     "output_type": "execute_result"
    }
   ],
   "source": [
    "# 15) Qual é a média da nota em Matemática dos alunos do sexo FEMININO, que moram em Belo Horizonte, Sabará, Nova Lima e Betim e possuem dislexia\n",
    "enem.loc[\n",
    "    (enem.SG_UF_RESIDENCIA == \"MG\")&\n",
    "    (enem.TP_SEXO == \"F\")&\n",
    "    (enem.NO_MUNICIPIO_RESIDENCIA.isin([\"Belo Horizonte\",\"Sabará\",\"Nova Lima\",\"Betim\"]))&\n",
    "    (enem.IN_DISLEXIA == 1)\n",
    "].NU_NOTA_MT.describe()"
   ]
  }
 ],
 "metadata": {
  "kernelspec": {
   "display_name": "Python 3",
   "language": "python",
   "name": "python3"
  },
  "language_info": {
   "codemirror_mode": {
    "name": "ipython",
    "version": 3
   },
   "file_extension": ".py",
   "mimetype": "text/x-python",
   "name": "python",
   "nbconvert_exporter": "python",
   "pygments_lexer": "ipython3",
   "version": "3.8.5"
  }
 },
 "nbformat": 4,
 "nbformat_minor": 4
}
